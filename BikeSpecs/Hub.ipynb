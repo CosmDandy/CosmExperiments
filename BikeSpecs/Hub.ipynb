{
 "cells": [
  {
   "cell_type": "code",
   "execution_count": 29,
   "outputs": [],
   "source": [
    "import pandas as pd\n",
    "import seaborn as sns\n",
    "import math"
   ],
   "metadata": {
    "collapsed": false,
    "pycharm": {
     "name": "#%%\n"
    }
   }
  },
  {
   "cell_type": "markdown",
   "source": [
    "http://caravan.hobby.ru/materiel/spokes/index.html\n",
    "\n",
    "## Размеры втулки"
   ],
   "metadata": {
    "collapsed": false,
    "pycharm": {
     "name": "#%% md\n"
    }
   }
  },
  {
   "cell_type": "code",
   "execution_count": 30,
   "outputs": [],
   "source": [
    "# Ширина втулки\n",
    "OLD = 1\n",
    "# Диаметр левого фланца втулки\n",
    "DL = 1\n",
    "# Диаметр правого фланца втулки\n",
    "DR = 1\n",
    "# Расстояние от левого края втулки до левого фланца втулки\n",
    "A = 1\n",
    "# Расстояние от правого края втулки до правого фланца втулки\n",
    "B = 1\n",
    "# Расстояние от центра до левого фланца втулки OLD / 2 - A\n",
    "WL = 1\n",
    "# Расстояние от центра до правого фланца втулки OLD / 2 - B\n",
    "WR = 1\n",
    "# Диаметр отверстия под спицу\n",
    "S = 1\n",
    "# Колличество спиц\n",
    "N = 1\n",
    "# Колличество крестов\n",
    "K = 1"
   ],
   "metadata": {
    "collapsed": false,
    "pycharm": {
     "name": "#%%\n"
    }
   }
  },
  {
   "cell_type": "markdown",
   "source": [
    "## Размеры обода"
   ],
   "metadata": {
    "collapsed": false,
    "pycharm": {
     "name": "#%% md\n"
    }
   }
  },
  {
   "cell_type": "code",
   "execution_count": 31,
   "outputs": [],
   "source": [
    "# Эффективный (эквивалентный) диаметр обода (ERD=ORD-2*HN)\n",
    "ERD = 1\n",
    "# Внешний диаметр обода\n",
    "ORD = 1"
   ],
   "metadata": {
    "collapsed": false,
    "pycharm": {
     "name": "#%%\n"
    }
   }
  },
  {
   "cell_type": "code",
   "execution_count": 32,
   "outputs": [],
   "source": [
    "SpokeLengthL = math.sqrt((WL ** 2) + (DL ** 2) + (ERD ** 2) - (2 * DL * ERD * math.cos((360 / (N/2) * K))))\n",
    "SpokeLengthR = math.sqrt((WR ** 2) + (DR ** 2) + (ERD ** 2) - (2 * DR * ERD * math.cos((360 / (N/2) * K))))\n",
    "\n",
    "SpokeLengthActual_L = SpokeLengthL - S / 2 - 1\n",
    "SpokeLengthActual_R = SpokeLengthR - S / 2 - 1"
   ],
   "metadata": {
    "collapsed": false,
    "pycharm": {
     "name": "#%%\n"
    }
   }
  },
  {
   "cell_type": "markdown",
   "source": [
    "## Расчеты"
   ],
   "metadata": {
    "collapsed": false,
    "pycharm": {
     "name": "#%% md\n"
    }
   }
  },
  {
   "cell_type": "markdown",
   "source": [
    "### Задняя втулка"
   ],
   "metadata": {
    "collapsed": false,
    "pycharm": {
     "name": "#%% md\n"
    }
   }
  },
  {
   "cell_type": "code",
   "execution_count": 58,
   "outputs": [],
   "source": [
    "# Ширина втулки\n",
    "OLD = 135\n",
    "# Диаметр левого фланца втулки\n",
    "DL = 58\n",
    "# Диаметр правого фланца втулки\n",
    "DR = 44\n",
    "# Расстояние от левого края втулки до левого фланца втулки\n",
    "A = 31.57\n",
    "# Расстояние от правого края втулки до правого фланца втулки\n",
    "B = 48.15\n",
    "# Расстояние от центра до левого фланца втулки OLD / 2 - A\n",
    "WL = OLD / 2 - A\n",
    "# Расстояние от центра до правого фланца втулки OLD / 2 - B\n",
    "WR = OLD / 2 - B\n",
    "# Диаметр отверстия под спицу\n",
    "S = 2.5\n",
    "# Колличество спиц\n",
    "N = 32\n",
    "# Колличество крестов\n",
    "K = 3\n",
    "\n",
    "# Эффективный (эквивалентный) диаметр обода (ERD=ORD-2*HN)\n",
    "ERD = 546\n",
    "\n",
    "SpokeLengthL = math.sqrt((WL ** 2) + (DL ** 2) + (ERD ** 2) - (2 * DL * ERD * math.cos((360 / (N/2) * K))))\n",
    "SpokeLengthR = math.sqrt((WR ** 2) + (DR ** 2) + (ERD ** 2) - (2 * DR * ERD * math.cos((360 / (N/2) * K))))\n",
    "\n",
    "test = math.sqrt(((ERD / 2) ** 2) + (DL ** 2) + A - 2 * ((ERD / 2) * DL * math.cos((4 * math.pi * K) / N))) - (S / 2)\n",
    "\n",
    "SpokeLengthActual_L = SpokeLengthL - S / 2 - 1\n",
    "SpokeLengthActual_R = SpokeLengthR - S / 2 - 1"
   ],
   "metadata": {
    "collapsed": false,
    "pycharm": {
     "name": "#%%\n"
    }
   }
  },
  {
   "cell_type": "code",
   "execution_count": 59,
   "outputs": [
    {
     "data": {
      "text/plain": "550.5358224323759"
     },
     "execution_count": 59,
     "metadata": {},
     "output_type": "execute_result"
    }
   ],
   "source": [
    "SpokeLengthActual_L"
   ],
   "metadata": {
    "collapsed": false,
    "pycharm": {
     "name": "#%%\n"
    }
   }
  },
  {
   "cell_type": "code",
   "execution_count": 60,
   "outputs": [
    {
     "data": {
      "text/plain": "547.796790025685"
     },
     "execution_count": 60,
     "metadata": {},
     "output_type": "execute_result"
    }
   ],
   "source": [
    "SpokeLengthActual_R"
   ],
   "metadata": {
    "collapsed": false,
    "pycharm": {
     "name": "#%%\n"
    }
   }
  },
  {
   "cell_type": "code",
   "execution_count": 61,
   "outputs": [
    {
     "data": {
      "text/plain": "255.27631651326215"
     },
     "execution_count": 61,
     "metadata": {},
     "output_type": "execute_result"
    }
   ],
   "source": [
    "test"
   ],
   "metadata": {
    "collapsed": false,
    "pycharm": {
     "name": "#%%\n"
    }
   }
  },
  {
   "cell_type": "code",
   "execution_count": null,
   "outputs": [],
   "source": [],
   "metadata": {
    "collapsed": false,
    "pycharm": {
     "name": "#%%\n"
    }
   }
  }
 ],
 "metadata": {
  "kernelspec": {
   "display_name": "Python 3",
   "language": "python",
   "name": "python3"
  },
  "language_info": {
   "codemirror_mode": {
    "name": "ipython",
    "version": 2
   },
   "file_extension": ".py",
   "mimetype": "text/x-python",
   "name": "python",
   "nbconvert_exporter": "python",
   "pygments_lexer": "ipython2",
   "version": "2.7.6"
  }
 },
 "nbformat": 4,
 "nbformat_minor": 0
}