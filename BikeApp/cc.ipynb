{
 "cells": [
  {
   "cell_type": "code",
   "execution_count": null,
   "metadata": {
    "collapsed": true,
    "pycharm": {
     "name": "#%%\n",
     "is_executing": true
    }
   },
   "outputs": [],
   "source": [
    "import pandas as pd\n",
    "import seaborn as sns"
   ]
  },
  {
   "cell_type": "code",
   "execution_count": 2,
   "outputs": [],
   "source": [
    "system12 = [12, [10, 12, 14, 16, 18, 21, 24, 28, 33, 39, 45, 51], [34]]\n",
    "system11 = [11, [11, 13, 15, 18, 21, 24, 28, 33, 39, 45, 51], [34]]\n",
    "system9 = [9, [12, 14, 16, 18, 21, 24, 26, 32, 36], [22, 30, 40]]\n",
    "systems = [system11]"
   ],
   "metadata": {
    "collapsed": false,
    "pycharm": {
     "name": "#%%\n"
    }
   }
  },
  {
   "cell_type": "code",
   "execution_count": 3,
   "outputs": [],
   "source": [
    "wheel_l = 0.002288\n",
    "cadence = 90"
   ],
   "metadata": {
    "collapsed": false,
    "pycharm": {
     "name": "#%%\n"
    }
   }
  },
  {
   "cell_type": "code",
   "execution_count": 4,
   "outputs": [],
   "source": [
    "df = pd.DataFrame({\n",
    "    \"rear\": [],\n",
    "    \"front\": [],\n",
    "    \"g_ratio\": [],\n",
    "    \"speed\" : [],\n",
    "    \"system_n\": []})"
   ],
   "metadata": {
    "collapsed": false,
    "pycharm": {
     "name": "#%%\n"
    }
   }
  },
  {
   "cell_type": "code",
   "execution_count": null,
   "outputs": [],
   "source": [
    "for s in systems:\n",
    "    system_n = s[0]\n",
    "    rear = s[1]\n",
    "    front = s[2]\n",
    "    for f in front:\n",
    "        front_t = int(f)\n",
    "        for r in rear:\n",
    "            rear_t = int(r)\n",
    "            g_ratio = front_t / rear_t\n",
    "            speed = wheel_l * cadence * 60 * g_ratio\n",
    "            df.loc[len(df)] = [rear_t, front_t, g_ratio, speed]"
   ],
   "metadata": {
    "collapsed": false,
    "pycharm": {
     "name": "#%%\n",
     "is_executing": true
    }
   }
  },
  {
   "cell_type": "code",
   "execution_count": 6,
   "outputs": [
    {
     "data": {
      "text/plain": "    rear  front   g_ratio      speed\n0   11.0   34.0  3.090909  38.188800\n1   13.0   34.0  2.615385  32.313600\n2   15.0   34.0  2.266667  28.005120\n3   18.0   34.0  1.888889  23.337600\n4   21.0   34.0  1.619048  20.003657\n5   24.0   34.0  1.416667  17.503200\n6   28.0   34.0  1.214286  15.002743\n7   33.0   34.0  1.030303  12.729600\n8   39.0   34.0  0.871795  10.771200\n9   45.0   34.0  0.755556   9.335040\n10  51.0   34.0  0.666667   8.236800",
      "text/html": "<div>\n<style scoped>\n    .dataframe tbody tr th:only-of-type {\n        vertical-align: middle;\n    }\n\n    .dataframe tbody tr th {\n        vertical-align: top;\n    }\n\n    .dataframe thead th {\n        text-align: right;\n    }\n</style>\n<table border=\"1\" class=\"dataframe\">\n  <thead>\n    <tr style=\"text-align: right;\">\n      <th></th>\n      <th>rear</th>\n      <th>front</th>\n      <th>g_ratio</th>\n      <th>speed</th>\n    </tr>\n  </thead>\n  <tbody>\n    <tr>\n      <th>0</th>\n      <td>11.0</td>\n      <td>34.0</td>\n      <td>3.090909</td>\n      <td>38.188800</td>\n    </tr>\n    <tr>\n      <th>1</th>\n      <td>13.0</td>\n      <td>34.0</td>\n      <td>2.615385</td>\n      <td>32.313600</td>\n    </tr>\n    <tr>\n      <th>2</th>\n      <td>15.0</td>\n      <td>34.0</td>\n      <td>2.266667</td>\n      <td>28.005120</td>\n    </tr>\n    <tr>\n      <th>3</th>\n      <td>18.0</td>\n      <td>34.0</td>\n      <td>1.888889</td>\n      <td>23.337600</td>\n    </tr>\n    <tr>\n      <th>4</th>\n      <td>21.0</td>\n      <td>34.0</td>\n      <td>1.619048</td>\n      <td>20.003657</td>\n    </tr>\n    <tr>\n      <th>5</th>\n      <td>24.0</td>\n      <td>34.0</td>\n      <td>1.416667</td>\n      <td>17.503200</td>\n    </tr>\n    <tr>\n      <th>6</th>\n      <td>28.0</td>\n      <td>34.0</td>\n      <td>1.214286</td>\n      <td>15.002743</td>\n    </tr>\n    <tr>\n      <th>7</th>\n      <td>33.0</td>\n      <td>34.0</td>\n      <td>1.030303</td>\n      <td>12.729600</td>\n    </tr>\n    <tr>\n      <th>8</th>\n      <td>39.0</td>\n      <td>34.0</td>\n      <td>0.871795</td>\n      <td>10.771200</td>\n    </tr>\n    <tr>\n      <th>9</th>\n      <td>45.0</td>\n      <td>34.0</td>\n      <td>0.755556</td>\n      <td>9.335040</td>\n    </tr>\n    <tr>\n      <th>10</th>\n      <td>51.0</td>\n      <td>34.0</td>\n      <td>0.666667</td>\n      <td>8.236800</td>\n    </tr>\n  </tbody>\n</table>\n</div>"
     },
     "execution_count": 6,
     "metadata": {},
     "output_type": "execute_result"
    }
   ],
   "source": [
    "df"
   ],
   "metadata": {
    "collapsed": false,
    "pycharm": {
     "name": "#%%\n"
    }
   }
  },
  {
   "cell_type": "code",
   "execution_count": null,
   "outputs": [
    {
     "data": {
      "text/plain": "<seaborn.axisgrid.FacetGrid at 0x7ff054abcd00>"
     },
     "execution_count": 7,
     "metadata": {},
     "output_type": "execute_result"
    }
   ],
   "source": [
    "sns.relplot(\n",
    "    data=df,\n",
    "    x=\"g_ratio\", y=\"speed\"\n",
    ")"
   ],
   "metadata": {
    "collapsed": false,
    "pycharm": {
     "name": "#%%\n"
    }
   }
  },
  {
   "cell_type": "code",
   "execution_count": null,
   "outputs": [],
   "source": [],
   "metadata": {
    "collapsed": false,
    "pycharm": {
     "name": "#%%\n"
    }
   }
  }
 ],
 "metadata": {
  "kernelspec": {
   "display_name": "Python 3",
   "language": "python",
   "name": "python3"
  },
  "language_info": {
   "codemirror_mode": {
    "name": "ipython",
    "version": 2
   },
   "file_extension": ".py",
   "mimetype": "text/x-python",
   "name": "python",
   "nbconvert_exporter": "python",
   "pygments_lexer": "ipython2",
   "version": "2.7.6"
  }
 },
 "nbformat": 4,
 "nbformat_minor": 0
}