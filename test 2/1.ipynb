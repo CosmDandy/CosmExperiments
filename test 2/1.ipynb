{
 "cells": [
  {
   "cell_type": "code",
   "execution_count": 1,
   "outputs": [],
   "source": [
    "import pandas as pd\n",
    "import numpy as np\n",
    "import seaborn as sns"
   ],
   "metadata": {
    "collapsed": false,
    "pycharm": {
     "name": "#%%\n"
    }
   }
  },
  {
   "cell_type": "code",
   "execution_count": 2,
   "outputs": [
    {
     "data": {
      "text/plain": "               Отметка времени                             ФИО Номер группы  \\\n0  2022/07/04 4:11:32 PM GMT+3      Кондрашин Тимофей Игоревич      211-366   \n1  2022/07/04 4:15:50 PM GMT+3   Селивонец Екатерина Сергеевна      211-366   \n2  2022/07/04 4:33:13 PM GMT+3  Куваева Анжелика Александровна      211-364   \n3  2022/07/04 5:13:59 PM GMT+3    Исянаманов Эрнест Ильдарович      211-364   \n4  2022/07/04 5:18:43 PM GMT+3                  Луговой Даниил      211-365   \n\n  Есть ли у вас свои идеи для задачи на практике которыми бы вы хотели заниматься ? (если нет, то задание вам даст Дедёхина Ольга Валерьевна)  \\\n0                                                 Да                                                                                            \n1                                                 Да                                                                                            \n2                                                Нет                                                                                            \n3                                                Нет                                                                                            \n4                                                Нет                                                                                            \n\n                      Напишите название вашей задачи  \\\n0  Анализ датасета Titanic - Machine Learning fro...   \n1                          Анализ датасета на Python   \n2                                                  -   \n3                                                  -   \n4                                                  -   \n\n         Опишите цели вашей задачи. Расскажите о ней  \n0  В процессе работ предстоит провести статистиче...  \n1  Проанализировать датасет магазина компьютерных...  \n2                                                  -  \n3                                                  -  \n4                                                  -  ",
      "text/html": "<div>\n<style scoped>\n    .dataframe tbody tr th:only-of-type {\n        vertical-align: middle;\n    }\n\n    .dataframe tbody tr th {\n        vertical-align: top;\n    }\n\n    .dataframe thead th {\n        text-align: right;\n    }\n</style>\n<table border=\"1\" class=\"dataframe\">\n  <thead>\n    <tr style=\"text-align: right;\">\n      <th></th>\n      <th>Отметка времени</th>\n      <th>ФИО</th>\n      <th>Номер группы</th>\n      <th>Есть ли у вас свои идеи для задачи на практике которыми бы вы хотели заниматься ? (если нет, то задание вам даст Дедёхина Ольга Валерьевна)</th>\n      <th>Напишите название вашей задачи</th>\n      <th>Опишите цели вашей задачи. Расскажите о ней</th>\n    </tr>\n  </thead>\n  <tbody>\n    <tr>\n      <th>0</th>\n      <td>2022/07/04 4:11:32 PM GMT+3</td>\n      <td>Кондрашин Тимофей Игоревич</td>\n      <td>211-366</td>\n      <td>Да</td>\n      <td>Анализ датасета Titanic - Machine Learning fro...</td>\n      <td>В процессе работ предстоит провести статистиче...</td>\n    </tr>\n    <tr>\n      <th>1</th>\n      <td>2022/07/04 4:15:50 PM GMT+3</td>\n      <td>Селивонец Екатерина Сергеевна</td>\n      <td>211-366</td>\n      <td>Да</td>\n      <td>Анализ датасета на Python</td>\n      <td>Проанализировать датасет магазина компьютерных...</td>\n    </tr>\n    <tr>\n      <th>2</th>\n      <td>2022/07/04 4:33:13 PM GMT+3</td>\n      <td>Куваева Анжелика Александровна</td>\n      <td>211-364</td>\n      <td>Нет</td>\n      <td>-</td>\n      <td>-</td>\n    </tr>\n    <tr>\n      <th>3</th>\n      <td>2022/07/04 5:13:59 PM GMT+3</td>\n      <td>Исянаманов Эрнест Ильдарович</td>\n      <td>211-364</td>\n      <td>Нет</td>\n      <td>-</td>\n      <td>-</td>\n    </tr>\n    <tr>\n      <th>4</th>\n      <td>2022/07/04 5:18:43 PM GMT+3</td>\n      <td>Луговой Даниил</td>\n      <td>211-365</td>\n      <td>Нет</td>\n      <td>-</td>\n      <td>-</td>\n    </tr>\n  </tbody>\n</table>\n</div>"
     },
     "execution_count": 2,
     "metadata": {},
     "output_type": "execute_result"
    }
   ],
   "source": [
    "data = pd.read_csv('1.csv')\n",
    "data.head()"
   ],
   "metadata": {
    "collapsed": false,
    "pycharm": {
     "name": "#%%\n"
    }
   }
  },
  {
   "cell_type": "code",
   "execution_count": 3,
   "outputs": [
    {
     "data": {
      "text/plain": "               Отметка времени                             ФИО Номер группы  \\\n0  2022/07/04 4:11:32 PM GMT+3      Кондрашин Тимофей Игоревич      211-366   \n1  2022/07/04 4:15:50 PM GMT+3   Селивонец Екатерина Сергеевна      211-366   \n2  2022/07/04 4:33:13 PM GMT+3  Куваева Анжелика Александровна      211-364   \n3  2022/07/04 5:13:59 PM GMT+3    Исянаманов Эрнест Ильдарович      211-364   \n4  2022/07/04 5:18:43 PM GMT+3                  Луговой Даниил      211-365   \n\n  Есть ли у вас свои идеи для задачи на практике которыми бы вы хотели заниматься ? (если нет, то задание вам даст Дедёхина Ольга Валерьевна)  \\\n0                                                 Да                                                                                            \n1                                                 Да                                                                                            \n2                                                Нет                                                                                            \n3                                                Нет                                                                                            \n4                                                Нет                                                                                            \n\n                      Напишите название вашей задачи  \\\n0  Анализ датасета Titanic - Machine Learning fro...   \n1                          Анализ датасета на Python   \n2                                                  -   \n3                                                  -   \n4                                                  -   \n\n         Опишите цели вашей задачи. Расскажите о ней  \n0  В процессе работ предстоит провести статистиче...  \n1  Проанализировать датасет магазина компьютерных...  \n2                                                  -  \n3                                                  -  \n4                                                  -  ",
      "text/html": "<div>\n<style scoped>\n    .dataframe tbody tr th:only-of-type {\n        vertical-align: middle;\n    }\n\n    .dataframe tbody tr th {\n        vertical-align: top;\n    }\n\n    .dataframe thead th {\n        text-align: right;\n    }\n</style>\n<table border=\"1\" class=\"dataframe\">\n  <thead>\n    <tr style=\"text-align: right;\">\n      <th></th>\n      <th>Отметка времени</th>\n      <th>ФИО</th>\n      <th>Номер группы</th>\n      <th>Есть ли у вас свои идеи для задачи на практике которыми бы вы хотели заниматься ? (если нет, то задание вам даст Дедёхина Ольга Валерьевна)</th>\n      <th>Напишите название вашей задачи</th>\n      <th>Опишите цели вашей задачи. Расскажите о ней</th>\n    </tr>\n  </thead>\n  <tbody>\n    <tr>\n      <th>0</th>\n      <td>2022/07/04 4:11:32 PM GMT+3</td>\n      <td>Кондрашин Тимофей Игоревич</td>\n      <td>211-366</td>\n      <td>Да</td>\n      <td>Анализ датасета Titanic - Machine Learning fro...</td>\n      <td>В процессе работ предстоит провести статистиче...</td>\n    </tr>\n    <tr>\n      <th>1</th>\n      <td>2022/07/04 4:15:50 PM GMT+3</td>\n      <td>Селивонец Екатерина Сергеевна</td>\n      <td>211-366</td>\n      <td>Да</td>\n      <td>Анализ датасета на Python</td>\n      <td>Проанализировать датасет магазина компьютерных...</td>\n    </tr>\n    <tr>\n      <th>2</th>\n      <td>2022/07/04 4:33:13 PM GMT+3</td>\n      <td>Куваева Анжелика Александровна</td>\n      <td>211-364</td>\n      <td>Нет</td>\n      <td>-</td>\n      <td>-</td>\n    </tr>\n    <tr>\n      <th>3</th>\n      <td>2022/07/04 5:13:59 PM GMT+3</td>\n      <td>Исянаманов Эрнест Ильдарович</td>\n      <td>211-364</td>\n      <td>Нет</td>\n      <td>-</td>\n      <td>-</td>\n    </tr>\n    <tr>\n      <th>4</th>\n      <td>2022/07/04 5:18:43 PM GMT+3</td>\n      <td>Луговой Даниил</td>\n      <td>211-365</td>\n      <td>Нет</td>\n      <td>-</td>\n      <td>-</td>\n    </tr>\n  </tbody>\n</table>\n</div>"
     },
     "execution_count": 3,
     "metadata": {},
     "output_type": "execute_result"
    }
   ],
   "source": [
    "data.drop(columns = ['Отметка времени'],axis = 1)\n",
    "data.head()"
   ],
   "metadata": {
    "collapsed": false,
    "pycharm": {
     "name": "#%%\n"
    }
   }
  },
  {
   "cell_type": "code",
   "execution_count": 3,
   "outputs": [],
   "source": [],
   "metadata": {
    "collapsed": false,
    "pycharm": {
     "name": "#%%\n"
    }
   }
  }
 ],
 "metadata": {
  "kernelspec": {
   "display_name": "Python 3",
   "language": "python",
   "name": "python3"
  },
  "language_info": {
   "codemirror_mode": {
    "name": "ipython",
    "version": 2
   },
   "file_extension": ".py",
   "mimetype": "text/x-python",
   "name": "python",
   "nbconvert_exporter": "python",
   "pygments_lexer": "ipython2",
   "version": "2.7.6"
  }
 },
 "nbformat": 4,
 "nbformat_minor": 0
}