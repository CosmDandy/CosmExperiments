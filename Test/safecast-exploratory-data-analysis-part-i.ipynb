{
 "cells": [
  {
   "cell_type": "code",
   "execution_count": null,
   "metadata": {
    "pycharm": {
     "name": "#%%\n",
     "is_executing": true
    }
   },
   "outputs": [],
   "source": [
    "import numpy as np\n",
    "import pandas as pd\n",
    "import matplotlib.pyplot as plt\n",
    "\n",
    "import datashader as ds\n",
    "from datashader import transfer_functions as tf\n",
    "from datashader.colors import colormap_select, Greys9, Hot, viridis, inferno\n",
    "from datashader.bokeh_ext import create_ramp_legend, create_categorical_legend\n",
    "import warnings\n",
    "warnings.filterwarnings('ignore')\n",
    "\n",
    "from bokeh.io import output_notebook, show\n",
    "\n",
    "# Input data files are available in the \"../input/\" directory.\n",
    "# For example, running this (by clicking run or pressing Shift+Enter) will list the files in the input directory\n",
    "\n",
    "import os\n",
    "print(os.listdir(\"csv\"))\n",
    "\n",
    "# Any results you write to the current directory are saved as output."
   ]
  },
  {
   "cell_type": "markdown",
   "metadata": {
    "pycharm": {
     "name": "#%% md\n"
    }
   },
   "source": [
    "* **Preliminary note**:\n",
    "This is a work in progress, will add analysis of air dose rates with proper map legend and more ..."
   ]
  },
  {
   "cell_type": "markdown",
   "metadata": {
    "_uuid": "de0aa40fddd7ded2ccb77b26537e6f1368903fa8",
    "pycharm": {
     "name": "#%% md\n"
    }
   },
   "source": [
    "## I. Data loading"
   ]
  },
  {
   "cell_type": "code",
   "execution_count": 5,
   "metadata": {
    "_cell_guid": "79c7e3d0-c299-4dcb-8224-4455121ee9b0",
    "_uuid": "d629ff2d2480ee46fbb7e2d37f6b5fab8052498a",
    "pycharm": {
     "name": "#%%\n"
    }
   },
   "outputs": [
    {
     "data": {
      "text/html": [
       "<div>\n",
       "<style scoped>\n",
       "    .dataframe tbody tr th:only-of-type {\n",
       "        vertical-align: middle;\n",
       "    }\n",
       "\n",
       "    .dataframe tbody tr th {\n",
       "        vertical-align: top;\n",
       "    }\n",
       "\n",
       "    .dataframe thead th {\n",
       "        text-align: right;\n",
       "    }\n",
       "</style>\n",
       "<table border=\"1\" class=\"dataframe\">\n",
       "  <thead>\n",
       "    <tr style=\"text-align: right;\">\n",
       "      <th></th>\n",
       "      <th>Captured Time</th>\n",
       "      <th>Latitude</th>\n",
       "      <th>Longitude</th>\n",
       "      <th>Value</th>\n",
       "      <th>Unit</th>\n",
       "      <th>Location Name</th>\n",
       "      <th>Device ID</th>\n",
       "      <th>MD5Sum</th>\n",
       "      <th>Height</th>\n",
       "      <th>Surface</th>\n",
       "      <th>Radiation</th>\n",
       "      <th>Uploaded Time</th>\n",
       "      <th>Loader ID</th>\n",
       "    </tr>\n",
       "  </thead>\n",
       "  <tbody>\n",
       "    <tr>\n",
       "      <th>0</th>\n",
       "      <td>2020-02-03 17:00:00</td>\n",
       "      <td>37.507552</td>\n",
       "      <td>139.941170</td>\n",
       "      <td>72</td>\n",
       "      <td>cpm</td>\n",
       "      <td>NaN</td>\n",
       "      <td>NaN</td>\n",
       "      <td>6449bbf7ce3b30a8e05bc23a0bc40644</td>\n",
       "      <td>NaN</td>\n",
       "      <td>NaN</td>\n",
       "      <td>NaN</td>\n",
       "      <td>2020-02-03 17:00:00</td>\n",
       "      <td>633</td>\n",
       "    </tr>\n",
       "    <tr>\n",
       "      <th>1</th>\n",
       "      <td>2020-02-03 11:00:00</td>\n",
       "      <td>37.505445</td>\n",
       "      <td>0.016667</td>\n",
       "      <td>68</td>\n",
       "      <td>cpm</td>\n",
       "      <td>NaN</td>\n",
       "      <td>NaN</td>\n",
       "      <td>a166df14f60b61095693684fc0f89c54</td>\n",
       "      <td>NaN</td>\n",
       "      <td>NaN</td>\n",
       "      <td>NaN</td>\n",
       "      <td>2020-02-03 11:00:00</td>\n",
       "      <td>614</td>\n",
       "    </tr>\n",
       "    <tr>\n",
       "      <th>2</th>\n",
       "      <td>2020-02-03 11:00:00</td>\n",
       "      <td>37.507250</td>\n",
       "      <td>139.940000</td>\n",
       "      <td>55</td>\n",
       "      <td>cpm</td>\n",
       "      <td>NaN</td>\n",
       "      <td>NaN</td>\n",
       "      <td>2fa8bccef282796bcdc297679c4db5b3</td>\n",
       "      <td>NaN</td>\n",
       "      <td>NaN</td>\n",
       "      <td>NaN</td>\n",
       "      <td>2020-02-03 11:00:00</td>\n",
       "      <td>614</td>\n",
       "    </tr>\n",
       "    <tr>\n",
       "      <th>3</th>\n",
       "      <td>2020-02-01 03:00:00</td>\n",
       "      <td>34.066487</td>\n",
       "      <td>-118.895217</td>\n",
       "      <td>50</td>\n",
       "      <td>cpm</td>\n",
       "      <td>NaN</td>\n",
       "      <td>NaN</td>\n",
       "      <td>da79c21520d3ff3f5ed010a70f4a6d29</td>\n",
       "      <td>NaN</td>\n",
       "      <td>NaN</td>\n",
       "      <td>NaN</td>\n",
       "      <td>2020-02-01 03:00:00</td>\n",
       "      <td>507</td>\n",
       "    </tr>\n",
       "    <tr>\n",
       "      <th>4</th>\n",
       "      <td>2020-02-01 01:00:00</td>\n",
       "      <td>37.673233</td>\n",
       "      <td>140.066667</td>\n",
       "      <td>48</td>\n",
       "      <td>cpm</td>\n",
       "      <td>NaN</td>\n",
       "      <td>NaN</td>\n",
       "      <td>6cdf740a2304a850185f74c0c4a4b878</td>\n",
       "      <td>NaN</td>\n",
       "      <td>NaN</td>\n",
       "      <td>NaN</td>\n",
       "      <td>2020-02-01 01:00:00</td>\n",
       "      <td>504</td>\n",
       "    </tr>\n",
       "  </tbody>\n",
       "</table>\n",
       "</div>"
      ],
      "text/plain": [
       "         Captured Time   Latitude   Longitude  Value Unit  Location Name  \\\n",
       "0  2020-02-03 17:00:00  37.507552  139.941170     72  cpm            NaN   \n",
       "1  2020-02-03 11:00:00  37.505445    0.016667     68  cpm            NaN   \n",
       "2  2020-02-03 11:00:00  37.507250  139.940000     55  cpm            NaN   \n",
       "3  2020-02-01 03:00:00  34.066487 -118.895217     50  cpm            NaN   \n",
       "4  2020-02-01 01:00:00  37.673233  140.066667     48  cpm            NaN   \n",
       "\n",
       "   Device ID                            MD5Sum  Height  Surface  Radiation  \\\n",
       "0        NaN  6449bbf7ce3b30a8e05bc23a0bc40644     NaN      NaN        NaN   \n",
       "1        NaN  a166df14f60b61095693684fc0f89c54     NaN      NaN        NaN   \n",
       "2        NaN  2fa8bccef282796bcdc297679c4db5b3     NaN      NaN        NaN   \n",
       "3        NaN  da79c21520d3ff3f5ed010a70f4a6d29     NaN      NaN        NaN   \n",
       "4        NaN  6cdf740a2304a850185f74c0c4a4b878     NaN      NaN        NaN   \n",
       "\n",
       "         Uploaded Time  Loader ID  \n",
       "0  2020-02-03 17:00:00        633  \n",
       "1  2020-02-03 11:00:00        614  \n",
       "2  2020-02-03 11:00:00        614  \n",
       "3  2020-02-01 03:00:00        507  \n",
       "4  2020-02-01 01:00:00        504  "
      ]
     },
     "execution_count": 5,
     "metadata": {},
     "output_type": "execute_result"
    }
   ],
   "source": [
    "# Taking a quick look at the first 10 rows\n",
    "df = pd.read_csv('csv/measurements.csv', nrows=10)\n",
    "df.head()"
   ]
  },
  {
   "cell_type": "code",
   "execution_count": null,
   "metadata": {
    "_uuid": "55770b4466845a01a3f6d3e635e00ff1943b23a1",
    "pycharm": {
     "is_executing": true,
     "name": "#%%\n"
    }
   },
   "outputs": [],
   "source": [
    "# Loading all rows but only Latitude, Longitude, Value, Unit and LoaderID\n",
    "df = pd.read_csv('csv/measurements.csv', usecols=[1, 2, 3, 4, 12], nrows=10)\n",
    "df"
   ]
  },
  {
   "cell_type": "code",
   "execution_count": 7,
   "metadata": {
    "_uuid": "4f7492093ba597dcf334f40930648cf87c9060a2",
    "pycharm": {
     "name": "#%%\n"
    }
   },
   "outputs": [
    {
     "name": "stdout",
     "output_type": "stream",
     "text": [
      "Number of measurements:  10\n"
     ]
    }
   ],
   "source": [
    "# Number of measurements\n",
    "print('Number of measurements: ', df.shape[0])"
   ]
  },
  {
   "cell_type": "markdown",
   "metadata": {
    "_uuid": "0a369e5e55713340d20e71f01b912ccbdb134bfc",
    "pycharm": {
     "name": "#%% md\n"
    }
   },
   "source": [
    "## II. A bit of data cleaning"
   ]
  },
  {
   "cell_type": "code",
   "execution_count": 8,
   "metadata": {
    "_uuid": "14e5220a04cabf6818345b890af8e67d4a89b42d",
    "pycharm": {
     "name": "#%%\n"
    }
   },
   "outputs": [
    {
     "data": {
      "text/plain": [
       "<bound method NDFrame.head of          lat         lon  value unit  loader_id\n",
       "0  37.507552  139.941170     72  cpm        633\n",
       "1  37.505445    0.016667     68  cpm        614\n",
       "2  37.507250  139.940000     55  cpm        614\n",
       "3  34.066487 -118.895217     50  cpm        507\n",
       "4  37.673233  140.066667     48  cpm        504\n",
       "5  37.674782  140.079895     52  cpm        504\n",
       "6  37.517902  139.925478     59  cpm        461\n",
       "7  37.737123  140.726853    454  cpm        461\n",
       "8  37.539610  140.116577     47  cpm        461\n",
       "9  37.755880  140.703412    463  cpm        461>"
      ]
     },
     "execution_count": 8,
     "metadata": {},
     "output_type": "execute_result"
    }
   ],
   "source": [
    "# Renaming columns\n",
    "df.columns = ['lat', 'lon', 'value','unit', 'loader_id']\n",
    "df.head"
   ]
  },
  {
   "cell_type": "code",
   "execution_count": 9,
   "metadata": {
    "_uuid": "73b8c278431f450a901a2d40432349b3840d45bc",
    "pycharm": {
     "name": "#%%\n"
    }
   },
   "outputs": [],
   "source": [
    "# Keeping only cpm (counts per minutes)\n",
    "df = df[df.unit == 'cpm']"
   ]
  },
  {
   "cell_type": "code",
   "execution_count": 10,
   "metadata": {
    "_uuid": "e0ed8589671038b928134773f817cef5132a5bab",
    "pycharm": {
     "is_executing": true,
     "name": "#%%\n"
    }
   },
   "outputs": [],
   "source": [
    "# Convert cpm to µSv/h\n",
    "# http://safecast.org/tilemap/methodology.html\n",
    "df.value = df.value / 350"
   ]
  },
  {
   "cell_type": "code",
   "execution_count": 11,
   "metadata": {
    "_uuid": "db509423b74e1f05e9a4330e72c58c843f444c26",
    "pycharm": {
     "is_executing": true,
     "name": "#%%\n"
    }
   },
   "outputs": [],
   "source": [
    "# Drop any NA\n",
    "df.dropna(axis=0, how='any', inplace=True)"
   ]
  },
  {
   "cell_type": "code",
   "execution_count": 12,
   "metadata": {
    "_uuid": "11c4c5421c8f30796c7ef1263dbe4acca148e494",
    "pycharm": {
     "is_executing": true,
     "name": "#%%\n"
    }
   },
   "outputs": [],
   "source": [
    "# Keep only positive values\n",
    "df = df[df.value > 0]"
   ]
  },
  {
   "cell_type": "code",
   "execution_count": 13,
   "metadata": {
    "_uuid": "2801fe11b4f25e6218223d95120031b0c2d27cb3",
    "pycharm": {
     "is_executing": true,
     "name": "#%%\n"
    }
   },
   "outputs": [],
   "source": [
    "# \"Casting\" Safecast data\n",
    "df.loader_id = df.loader_id.astype(int)"
   ]
  },
  {
   "cell_type": "markdown",
   "metadata": {
    "_uuid": "de8b8b6c48ea1ccd3e62bb65de4d3331ad5ffbb8",
    "pycharm": {
     "name": "#%% md\n"
    }
   },
   "source": [
    "### III. EDA"
   ]
  },
  {
   "cell_type": "markdown",
   "metadata": {
    "_uuid": "77dc1271c0b41b9c1b711c0adb0224c720df1b79",
    "pycharm": {
     "name": "#%% md\n"
    }
   },
   "source": [
    "### III. 1 Data loaders activity"
   ]
  },
  {
   "cell_type": "code",
   "execution_count": 14,
   "metadata": {
    "_uuid": "32d83bcc752e86603a3170045ce9ce8527b39a41",
    "pycharm": {
     "is_executing": true,
     "name": "#%%\n"
    }
   },
   "outputs": [
    {
     "name": "stdout",
     "output_type": "stream",
     "text": [
      "Min. # of measurements loaded:  1\n",
      "Max. # of measurements loaded:  4\n"
     ]
    }
   ],
   "source": [
    "loaders = df['loader_id'].value_counts()\n",
    "print(\"Min. # of measurements loaded: \", loaders.min())\n",
    "print(\"Max. # of measurements loaded: \", loaders.max())"
   ]
  },
  {
   "cell_type": "code",
   "execution_count": null,
   "metadata": {
    "_uuid": "98a38cfab16173156d4c19b0caca598e6215fd57",
    "pycharm": {
     "is_executing": true,
     "name": "#%%\n"
    }
   },
   "outputs": [],
   "source": [
    "fig, ax = plt.subplots()\n",
    "loaders.hist(ax=ax, bins=100, bottom=0.1)\n",
    "ax.set_yscale('log')\n",
    "ax.set_xlabel(\"# of measurements\")\n",
    "ax.set_ylabel(\"# of loaders (Log scale)\")"
   ]
  },
  {
   "cell_type": "markdown",
   "metadata": {
    "_uuid": "bae242b9de92e767948deea6049cc2c87aa42976",
    "pycharm": {
     "name": "#%% md\n"
    }
   },
   "source": [
    "### III. 2 Spatializing number of measurements"
   ]
  },
  {
   "cell_type": "code",
   "execution_count": null,
   "metadata": {
    "_uuid": "f262ecf2fb291d9ee65bdae6fa67308e92321d62",
    "collapsed": true,
    "pycharm": {
     "is_executing": true,
     "name": "#%%\n"
    }
   },
   "outputs": [],
   "source": [
    "plot_width  = int(800)\n",
    "plot_height = int(plot_width//1.2)"
   ]
  },
  {
   "cell_type": "code",
   "execution_count": null,
   "metadata": {
    "_uuid": "022a5e70a8d777af9b886f456943a6acb016d4de",
    "collapsed": true,
    "pycharm": {
     "is_executing": true,
     "name": "#%%\n"
    }
   },
   "outputs": [],
   "source": [
    "def draw_map(df, plot_width, plot_height, colors, agg_func, interp, background_col):\n",
    "    cvs = ds.Canvas(plot_width=plot_width, plot_height=plot_height)\n",
    "    agg = cvs.points(df, 'lon', 'lat',  agg_func('value'))\n",
    "    img = tf.shade(agg, cmap=colors, how=interp)\n",
    "    return tf.set_background(img, color=background_col)"
   ]
  },
  {
   "cell_type": "markdown",
   "metadata": {
    "_uuid": "759067bf8a978828ec0dd5f7d4e0245caf5cc68b",
    "pycharm": {
     "name": "#%% md\n"
    }
   },
   "source": [
    "* **Worldwide**"
   ]
  },
  {
   "cell_type": "code",
   "execution_count": null,
   "metadata": {
    "_uuid": "2759eb5ffc8a16eda65cf1f195c03162cb8e7f5c",
    "pycharm": {
     "is_executing": true,
     "name": "#%%\n"
    }
   },
   "outputs": [],
   "source": [
    "# NEED PROPER MAP LEGEND\n",
    "img = draw_map(df, plot_width, plot_height, inferno, ds.count, 'log', 'black')\n",
    "img"
   ]
  },
  {
   "cell_type": "markdown",
   "metadata": {
    "_uuid": "6f56d3cacb143b4d0a35513fe3af50d36f015c20",
    "pycharm": {
     "name": "#%% md\n"
    }
   },
   "source": [
    "* **Zoom to Japan**"
   ]
  },
  {
   "cell_type": "code",
   "execution_count": null,
   "metadata": {
    "_uuid": "dc97571bcf6ddda1c6a287836b1ad481e54d54e0",
    "collapsed": true,
    "pycharm": {
     "is_executing": true,
     "name": "#%%\n"
    }
   },
   "outputs": [],
   "source": [
    "x_min_jpn, y_min_jpn, x_max_jpn, y_max_jpn = 128.03, 30.22, 148.65, 45.83\n",
    "df_jpn = df[(df.lon > x_min_jpn) & (df.lon < x_max_jpn) & (df.lat > y_min_jpn) & (df.lat < y_max_jpn)]"
   ]
  },
  {
   "cell_type": "code",
   "execution_count": null,
   "metadata": {
    "_uuid": "3e78591ef940298489d46e6733e16f754a5f0387",
    "pycharm": {
     "is_executing": true,
     "name": "#%%\n"
    }
   },
   "outputs": [],
   "source": [
    "img = draw_map(df_jpn, plot_width, plot_height, inferno, ds.count, 'log', 'black')\n",
    "img"
   ]
  },
  {
   "cell_type": "markdown",
   "metadata": {
    "_uuid": "46ddd93650bb7b17bebdb0db9ec4a2634981015f",
    "pycharm": {
     "name": "#%% md\n"
    }
   },
   "source": [
    "* **Around Fukushima, Japan**"
   ]
  },
  {
   "cell_type": "code",
   "execution_count": null,
   "metadata": {
    "_uuid": "da6219a317790dc2887b92c63b37910815ba44d4",
    "collapsed": true,
    "pycharm": {
     "is_executing": true,
     "name": "#%%\n"
    }
   },
   "outputs": [],
   "source": [
    "x_min_fk, y_min_fk, x_max_fk, y_max_fk = 140.0166, 37.0047, 141.2251, 38.195\n",
    "df_fk= df[(df.lon > x_min_fk) & (df.lon < x_max_fk) & (df.lat > y_min_fk) & (df.lat < y_max_fk)]"
   ]
  },
  {
   "cell_type": "code",
   "execution_count": null,
   "metadata": {
    "_uuid": "9be90b3a26ef7a69ede0fd719551c9500b578276",
    "pycharm": {
     "is_executing": true,
     "name": "#%%\n"
    }
   },
   "outputs": [],
   "source": [
    "img = draw_map(df_fk, plot_width, plot_height, inferno, ds.count, 'log', 'black')\n",
    "img"
   ]
  },
  {
   "cell_type": "code",
   "execution_count": null,
   "metadata": {
    "_uuid": "d875edb344a8c6d455d6c532e05574599ac14c6c",
    "collapsed": true,
    "pycharm": {
     "is_executing": true,
     "name": "#%%\n"
    }
   },
   "outputs": [],
   "source": []
  }
 ],
 "metadata": {
  "kernelspec": {
   "display_name": "Python 3 (ipykernel)",
   "language": "python",
   "name": "python3"
  },
  "language_info": {
   "codemirror_mode": {
    "name": "ipython",
    "version": 3
   },
   "file_extension": ".py",
   "mimetype": "text/x-python",
   "name": "python",
   "nbconvert_exporter": "python",
   "pygments_lexer": "ipython3",
   "version": "3.10.4"
  }
 },
 "nbformat": 4,
 "nbformat_minor": 1
}